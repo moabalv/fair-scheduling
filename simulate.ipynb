{
 "cells": [
  {
   "cell_type": "code",
   "execution_count": 1,
   "metadata": {},
   "outputs": [],
   "source": [
    "import pandas as pd\n",
    "from proc.proc import Proc\n",
    "from schedulers.fifo import Fifo\n",
    "from schedulers.round_robin import RoundRobin\n",
    "from schedulers.cfs import CFS\n",
    "from schedulers.sjf import SJF"
   ]
  },
  {
   "cell_type": "code",
   "execution_count": 2,
   "metadata": {},
   "outputs": [],
   "source": [
    "data = pd.read_csv(\"proc2.csv\")\n",
    "data.set_index(data.pid)\n",
    "data.sort_values(by = \"arrival\", inplace= True)"
   ]
  },
  {
   "cell_type": "code",
   "execution_count": 3,
   "metadata": {},
   "outputs": [],
   "source": [
    "def get_num_missing_values(values):\n",
    "    trange = set(range(1, max(values) + 1))\n",
    "    not_missing = set(values)\n",
    "    missing = trange - not_missing\n",
    "    return len(missing)"
   ]
  },
  {
   "cell_type": "code",
   "execution_count": 4,
   "metadata": {},
   "outputs": [],
   "source": [
    "def init_processes(df_proc: pd.DataFrame):\n",
    "    processes = []\n",
    "    for row in df_proc.itertuples():\n",
    "        proc = Proc(row.pid, row.job_len, row.arrival)\n",
    "        processes.append(proc)\n",
    "    return processes \n"
   ]
  },
  {
   "cell_type": "markdown",
   "metadata": {},
   "source": [
    "# Round Robin"
   ]
  },
  {
   "cell_type": "code",
   "execution_count": 5,
   "metadata": {},
   "outputs": [],
   "source": [
    "def simulateRR():\n",
    "    processes = init_processes(data)\n",
    "    total_cpu_time = data.job_len.sum() + get_num_missing_values(data.arrival)\n",
    "    scheduler = RoundRobin(4)\n",
    "    for t in range(1, total_cpu_time):\n",
    "\n",
    "        #Insert arriving processes in ready queue\n",
    "        while len(processes) != 0 and processes[0].arrival == t:\n",
    "            scheduler.insert_process(processes.pop(0))\n",
    "        scheduler.run()\n",
    "    return scheduler.processes, scheduler.simulation\n",
    "\n"
   ]
  },
  {
   "cell_type": "code",
   "execution_count": 6,
   "metadata": {},
   "outputs": [],
   "source": [
    "p, s = simulateRR()\n",
    "df = pd.DataFrame([vars(proc) for proc in p])\n",
    "timeline = pd.DataFrame(s)"
   ]
  },
  {
   "cell_type": "code",
   "execution_count": 7,
   "metadata": {},
   "outputs": [],
   "source": [
    "df.to_csv(\"RRProc.csv\")\n",
    "timeline.to_csv(\"TimelineRR.csv\", index = True)"
   ]
  },
  {
   "cell_type": "markdown",
   "metadata": {},
   "source": [
    "# CFS"
   ]
  },
  {
   "cell_type": "code",
   "execution_count": 8,
   "metadata": {},
   "outputs": [],
   "source": [
    "def simulateCFS():\n",
    "    processes = init_processes(data)\n",
    "    total_cpu_time = data.job_len.sum() + get_num_missing_values(data.arrival)\n",
    "    scheduler = CFS(40, 4, 1)\n",
    "    for t in range(1, total_cpu_time):\n",
    "\n",
    "        #Insert arriving processes in ready queue\n",
    "        while len(processes) != 0 and processes[0].arrival == t:\n",
    "            scheduler.insert_process(processes.pop(0))\n",
    "        scheduler.run()\n",
    "    return scheduler.processes, scheduler.simulation"
   ]
  },
  {
   "cell_type": "code",
   "execution_count": 9,
   "metadata": {},
   "outputs": [],
   "source": [
    "p, s = simulateCFS()\n",
    "df = pd.DataFrame([vars(proc) for proc in p])\n",
    "timeline = pd.DataFrame(s)\n",
    "df.to_csv(\"CFSProc3.csv\")\n",
    "#timeline.to_csv(\"TimelineCFS.csv\", index = True)\n"
   ]
  },
  {
   "cell_type": "markdown",
   "metadata": {},
   "source": [
    "# FIFO"
   ]
  },
  {
   "cell_type": "code",
   "execution_count": 10,
   "metadata": {},
   "outputs": [],
   "source": [
    "def simulateFifo():\n",
    "    processes = init_processes(data)\n",
    "    total_cpu_time = data.job_len.sum() + get_num_missing_values(data.arrival)\n",
    "    scheduler = Fifo()\n",
    "    for t in range(1, total_cpu_time):\n",
    "\n",
    "        #Insert arriving processes in ready queue\n",
    "        while len(processes) != 0 and processes[0].arrival == t:\n",
    "            scheduler.insert_process(processes.pop(0))\n",
    "        scheduler.run()\n",
    "    return scheduler.processes"
   ]
  },
  {
   "cell_type": "code",
   "execution_count": 11,
   "metadata": {},
   "outputs": [],
   "source": [
    "p = simulateFifo()\n",
    "df = pd.DataFrame([vars(proc) for proc in p])\n",
    "df.to_csv(\"FifoProc.csv\")"
   ]
  },
  {
   "cell_type": "markdown",
   "metadata": {},
   "source": [
    "# SJF"
   ]
  },
  {
   "cell_type": "code",
   "execution_count": 12,
   "metadata": {},
   "outputs": [],
   "source": [
    "def simulateSJF():\n",
    "    processes = init_processes(data)\n",
    "    total_cpu_time = data.job_len.sum() + get_num_missing_values(data.arrival)\n",
    "    scheduler = SJF()\n",
    "    for t in range(1, total_cpu_time):\n",
    "\n",
    "        #Insert arriving processes in ready queue\n",
    "        while len(processes) != 0 and processes[0].arrival == t:\n",
    "            scheduler.insert_process(processes.pop(0))\n",
    "        scheduler.run()\n",
    "    return scheduler.processes, scheduler.simulation"
   ]
  },
  {
   "cell_type": "code",
   "execution_count": 13,
   "metadata": {},
   "outputs": [],
   "source": [
    "p, s = simulateSJF()\n",
    "df = pd.DataFrame([vars(proc) for proc in p])\n",
    "timeline = pd.DataFrame(s)\n",
    "df.to_csv(\"SJFProc.csv\")\n",
    "timeline.to_csv(\"TimelineSJF.csv\", index = True)"
   ]
  }
 ],
 "metadata": {
  "kernelspec": {
   "display_name": "Python 3",
   "language": "python",
   "name": "python3"
  },
  "language_info": {
   "codemirror_mode": {
    "name": "ipython",
    "version": 3
   },
   "file_extension": ".py",
   "mimetype": "text/x-python",
   "name": "python",
   "nbconvert_exporter": "python",
   "pygments_lexer": "ipython3",
   "version": "3.10.6"
  }
 },
 "nbformat": 4,
 "nbformat_minor": 2
}
